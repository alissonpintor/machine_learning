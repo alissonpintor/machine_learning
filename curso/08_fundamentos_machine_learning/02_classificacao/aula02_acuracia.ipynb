{
 "cells": [
  {
   "cell_type": "markdown",
   "metadata": {},
   "source": [
    "# Aula 02 - Acuracia do modelo"
   ]
  },
  {
   "cell_type": "markdown",
   "metadata": {},
   "source": [
    "### Imports"
   ]
  },
  {
   "cell_type": "code",
   "execution_count": 1,
   "metadata": {},
   "outputs": [],
   "source": [
    "import pandas as pd\n",
    "from sklearn.neighbors import KNeighborsClassifier\n",
    "from sklearn import metrics as mt"
   ]
  },
  {
   "cell_type": "markdown",
   "metadata": {},
   "source": [
    "### Carregando o modelo"
   ]
  },
  {
   "cell_type": "code",
   "execution_count": 2,
   "metadata": {},
   "outputs": [],
   "source": [
    "df = pd.read_csv('dataset/train.csv')"
   ]
  },
  {
   "cell_type": "markdown",
   "metadata": {},
   "source": [
    "### Definindo os features e o label"
   ]
  },
  {
   "cell_type": "code",
   "execution_count": 3,
   "metadata": {},
   "outputs": [
    {
     "data": {
      "text/plain": [
       "Index(['id_cliente', 'idade', 'saldo_atual', 'divida_atual', 'renda_anual',\n",
       "       'valor_em_investimentos', 'taxa_utilizacao_credito', 'num_emprestimos',\n",
       "       'num_contas_bancarias', 'num_cartoes_credito', 'dias_atraso_dt_venc',\n",
       "       'num_pgtos_atrasados', 'num_consultas_credito', 'taxa_juros',\n",
       "       'investe_exterior', 'pessoa_polit_exp', 'limite_adicional'],\n",
       "      dtype='object')"
      ]
     },
     "execution_count": 3,
     "metadata": {},
     "output_type": "execute_result"
    }
   ],
   "source": [
    "df.columns"
   ]
  },
  {
   "cell_type": "code",
   "execution_count": 4,
   "metadata": {},
   "outputs": [],
   "source": [
    "features = ['idade', 'saldo_atual', 'divida_atual', 'renda_anual',\n",
    "       'valor_em_investimentos', 'taxa_utilizacao_credito', 'num_emprestimos',\n",
    "       'num_contas_bancarias', 'num_cartoes_credito', 'dias_atraso_dt_venc',\n",
    "       'num_pgtos_atrasados', 'num_consultas_credito', 'taxa_juros']\n",
    "\n",
    "label = ['limite_adicional']"
   ]
  },
  {
   "cell_type": "markdown",
   "metadata": {},
   "source": [
    "### Treinando o modelo"
   ]
  },
  {
   "cell_type": "code",
   "execution_count": 6,
   "metadata": {},
   "outputs": [],
   "source": [
    "x_train = df.loc[:, features]\n",
    "y_train = df.loc[:, label].values.ravel()"
   ]
  },
  {
   "cell_type": "code",
   "execution_count": 7,
   "metadata": {},
   "outputs": [],
   "source": [
    "knn_classifier = KNeighborsClassifier(n_neighbors=8)\n",
    "knn_classifier.fit(x_train, y_train)\n",
    "\n",
    "y_pred = knn_classifier.predict(x_train)"
   ]
  },
  {
   "cell_type": "markdown",
   "metadata": {},
   "source": [
    "### Analisando a Acuracia"
   ]
  },
  {
   "cell_type": "code",
   "execution_count": 8,
   "metadata": {},
   "outputs": [
    {
     "data": {
      "text/plain": [
       "0.8550526315789474"
      ]
     },
     "execution_count": 8,
     "metadata": {},
     "output_type": "execute_result"
    }
   ],
   "source": [
    "# Confusuion Matrix\n",
    "mt.confusion_matrix(y_train, y_pred)\n",
    "\n",
    "# Accuracy\n",
    "mt.accuracy_score(y_train, y_pred)"
   ]
  }
 ],
 "metadata": {
  "kernelspec": {
   "display_name": ".venv",
   "language": "python",
   "name": "python3"
  },
  "language_info": {
   "codemirror_mode": {
    "name": "ipython",
    "version": 3
   },
   "file_extension": ".py",
   "mimetype": "text/x-python",
   "name": "python",
   "nbconvert_exporter": "python",
   "pygments_lexer": "ipython3",
   "version": "3.12.0"
  }
 },
 "nbformat": 4,
 "nbformat_minor": 2
}
