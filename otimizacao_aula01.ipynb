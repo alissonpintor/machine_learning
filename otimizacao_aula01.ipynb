{
 "cells": [
  {
   "cell_type": "markdown",
   "metadata": {},
   "source": [
    "# Algoritmo de Otimização - Calendários de voos"
   ]
  },
  {
   "cell_type": "markdown",
   "metadata": {},
   "source": [
    "### Imports"
   ]
  },
  {
   "cell_type": "code",
   "execution_count": 4,
   "metadata": {},
   "outputs": [],
   "source": [
    "import six\n",
    "import sys\n",
    "sys.modules['sklearn.externals.six'] = six\n",
    "import mlrose"
   ]
  },
  {
   "cell_type": "markdown",
   "metadata": {},
   "source": [
    "### Representação do problema"
   ]
  },
  {
   "cell_type": "code",
   "execution_count": 6,
   "metadata": {},
   "outputs": [],
   "source": [
    "pessoas: list[tuple[str, str]] = [\n",
    "    ('Lisboa', 'LIS'),\n",
    "    ('Madrid', 'MAD'),\n",
    "    ('Paris', 'CDG'),\n",
    "    ('Dublin', 'DUB'),\n",
    "    ('Bruxelas', 'BRU'),\n",
    "    ('Londres', 'LHR'),\n",
    "]"
   ]
  },
  {
   "cell_type": "code",
   "execution_count": 7,
   "metadata": {},
   "outputs": [],
   "source": [
    "destino = 'FCO'"
   ]
  },
  {
   "cell_type": "code",
   "execution_count": 8,
   "metadata": {},
   "outputs": [],
   "source": [
    "voos = {}\n",
    "with open('dataset/flights.txt') as f:\n",
    "    for linha in f:\n",
    "        origem, destino, saida, chegada, preco = linha.split(',')\n",
    "        voos.setdefault((origem, destino), [])\n",
    "        voos[(origem, destino)].append((saida, chegada, int(preco.replace('\\n', ''))))"
   ]
  },
  {
   "cell_type": "code",
   "execution_count": 9,
   "metadata": {},
   "outputs": [
    {
     "data": {
      "text/plain": [
       "[('6:19', '8:13', 239),\n",
       " ('8:04', '10:59', 136),\n",
       " ('9:31', '11:43', 210),\n",
       " ('11:07', '13:24', 171),\n",
       " ('12:31', '14:02', 234),\n",
       " ('14:05', '15:47', 226),\n",
       " ('15:07', '17:21', 129),\n",
       " ('16:35', '18:56', 144),\n",
       " ('18:25', '20:34', 205),\n",
       " ('20:05', '21:44', 172)]"
      ]
     },
     "execution_count": 9,
     "metadata": {},
     "output_type": "execute_result"
    }
   ],
   "source": [
    "voos[('FCO', 'LIS')]"
   ]
  },
  {
   "cell_type": "code",
   "execution_count": 15,
   "metadata": {},
   "outputs": [],
   "source": [
    "def imprimir_voos(agenda):\n",
    "  id_voo = -1\n",
    "  total_preco = 0\n",
    "  for i in range(len(agenda) // 2):\n",
    "    nome = pessoas[i][0]\n",
    "    origem = pessoas[i][1]\n",
    "    id_voo += 1\n",
    "    ida = voos[(origem, destino)][agenda[id_voo]]\n",
    "    total_preco += ida[2]\n",
    "    id_voo += 1\n",
    "    volta = voos[(destino, origem)][agenda[id_voo]]\n",
    "    total_preco += volta[2]\n",
    "    print('%10s%10s %5s-%5s %3s %5s-%5s %3s' % (nome, origem, ida[0], ida[1], ida[2],\n",
    "                                                volta[0], volta[1], volta[2]))\n",
    "  print('Preço total: ', total_preco)"
   ]
  },
  {
   "cell_type": "code",
   "execution_count": 30,
   "metadata": {},
   "outputs": [
    {
     "name": "stdout",
     "output_type": "stream",
     "text": [
      "    Lisboa       LIS  7:39-10:24 219  6:19- 8:13 239\n",
      "    Madrid       MAD 11:01-12:39 260  9:11-10:42 172\n",
      "     Paris       CDG 17:07-20:04 291  8:23-11:07 143\n",
      "    Dublin       DUB 15:27-17:18 151 10:33-12:03  74\n",
      "  Bruxelas       BRU  9:08-12:12 364 12:20-16:34 500\n",
      "   Londres       LHR 13:40-15:38 137 10:32-13:16 139\n",
      "Preço total:  2689\n"
     ]
    }
   ],
   "source": [
    "agenda = [1,0, 3,2, 7,1, 6,3, 2,4, 5,3]\n",
    "imprimir_voos(agenda)"
   ]
  },
  {
   "cell_type": "code",
   "execution_count": 31,
   "metadata": {},
   "outputs": [
    {
     "data": {
      "text/plain": [
       "1000000000000000000000000"
      ]
     },
     "execution_count": 31,
     "metadata": {},
     "output_type": "execute_result"
    }
   ],
   "source": [
    "100**12"
   ]
  },
  {
   "cell_type": "markdown",
   "metadata": {},
   "source": [
    "### Fitness Function"
   ]
  },
  {
   "cell_type": "code",
   "execution_count": 10,
   "metadata": {},
   "outputs": [],
   "source": [
    "def fitness_function(agenda):\n",
    "  id_voo = -1\n",
    "  total_preco = 0\n",
    "  for i in range(len(agenda) // 2):\n",
    "    origem = pessoas[i][1]\n",
    "    id_voo += 1\n",
    "    ida = voos[(origem, destino)][agenda[id_voo]]\n",
    "    total_preco += ida[2]\n",
    "    id_voo += 1\n",
    "    volta = voos[(destino, origem)][agenda[id_voo]]\n",
    "    total_preco += volta[2]\n",
    "\n",
    "  return total_preco"
   ]
  },
  {
   "cell_type": "code",
   "execution_count": 11,
   "metadata": {},
   "outputs": [
    {
     "data": {
      "text/plain": [
       "2619"
      ]
     },
     "execution_count": 11,
     "metadata": {},
     "output_type": "execute_result"
    }
   ],
   "source": [
    "agenda = [1,7, 3,1, 1,1, 6,3, 2,4, 5,3]\n",
    "fitness_function(agenda)"
   ]
  },
  {
   "cell_type": "code",
   "execution_count": 12,
   "metadata": {},
   "outputs": [],
   "source": [
    "fitness = mlrose.CustomFitness(fitness_function)\n",
    "problema = mlrose.DiscreteOpt(length=12, fitness_fn=fitness, maximize=False, max_val=10)"
   ]
  },
  {
   "cell_type": "markdown",
   "metadata": {},
   "source": [
    "### Hill Climb"
   ]
  },
  {
   "cell_type": "code",
   "execution_count": 13,
   "metadata": {},
   "outputs": [
    {
     "data": {
      "text/plain": [
       "(array([2, 6, 5, 7, 8, 1, 3, 6, 0, 2, 9, 1], dtype=int32), 1566.0)"
      ]
     },
     "execution_count": 13,
     "metadata": {},
     "output_type": "execute_result"
    }
   ],
   "source": [
    "melhor_solucao, melhor_custo = mlrose.hill_climb(problema)\n",
    "melhor_solucao, melhor_custo"
   ]
  },
  {
   "cell_type": "code",
   "execution_count": 16,
   "metadata": {},
   "outputs": [
    {
     "name": "stdout",
     "output_type": "stream",
     "text": [
      "    Lisboa       LIS  9:15-12:03  99 15:07-17:21 129\n",
      "    Madrid       MAD 14:22-16:32 126 17:06-20:00  95\n",
      "     Paris       CDG 18:23-21:35 134  8:23-11:07 143\n",
      "    Dublin       DUB 11:16-13:29  83 15:25-16:58  62\n",
      "  Bruxelas       BRU  6:12-10:22 230  9:49-13:51 229\n",
      "   Londres       LHR 20:30-23:11 114  8:19-11:16 122\n",
      "Preço total:  1566\n"
     ]
    }
   ],
   "source": [
    "imprimir_voos(melhor_solucao)"
   ]
  },
  {
   "cell_type": "code",
   "execution_count": 17,
   "metadata": {},
   "outputs": [
    {
     "data": {
      "text/plain": [
       "[('6:11', '8:31', 249),\n",
       " ('7:39', '10:24', 219),\n",
       " ('9:15', '12:03', 99),\n",
       " ('11:08', '13:07', 175),\n",
       " ('12:18', '14:56', 172),\n",
       " ('13:37', '15:08', 250),\n",
       " ('15:03', '16:42', 135),\n",
       " ('16:51', '19:09', 147),\n",
       " ('18:12', '20:17', 242),\n",
       " ('20:05', '22:06', 261)]"
      ]
     },
     "execution_count": 17,
     "metadata": {},
     "output_type": "execute_result"
    }
   ],
   "source": [
    "voos[('LIS', 'FCO')]"
   ]
  },
  {
   "cell_type": "markdown",
   "metadata": {},
   "source": [
    "### Simulated Annealing"
   ]
  },
  {
   "cell_type": "code",
   "execution_count": 55,
   "metadata": {},
   "outputs": [
    {
     "data": {
      "text/plain": [
       "(array([7, 9, 5, 8, 8, 0, 1, 5, 3, 3, 9, 5], dtype=int32), 1865.0)"
      ]
     },
     "execution_count": 55,
     "metadata": {},
     "output_type": "execute_result"
    }
   ],
   "source": [
    "from mlrose.decay import ExpDecay\n",
    "\n",
    "melhor_solucao, melhor_custo = mlrose.simulated_annealing(problema, schedule=ExpDecay(), random_state=1)\n",
    "melhor_solucao, melhor_custo"
   ]
  },
  {
   "cell_type": "code",
   "execution_count": 56,
   "metadata": {},
   "outputs": [
    {
     "name": "stdout",
     "output_type": "stream",
     "text": [
      "    Lisboa       LIS 16:51-19:09 147 20:05-21:44 172\n",
      "    Madrid       MAD 14:22-16:32 126 18:33-20:22 143\n",
      "     Paris       CDG 18:23-21:35 134  6:33- 9:14 172\n",
      "    Dublin       DUB  8:04-10:11  95 13:39-15:30  74\n",
      "  Bruxelas       BRU 10:30-14:57 290 10:51-14:16 256\n",
      "   Londres       LHR 20:30-23:11 114 13:37-15:33 142\n",
      "Preço total:  1865\n"
     ]
    }
   ],
   "source": [
    "imprimir_voos(melhor_solucao)"
   ]
  },
  {
   "cell_type": "markdown",
   "metadata": {},
   "source": [
    "### Algoritmo Genético"
   ]
  },
  {
   "cell_type": "code",
   "execution_count": 63,
   "metadata": {},
   "outputs": [
    {
     "data": {
      "text/plain": [
       "(array([7, 3, 1, 2, 9, 0, 3, 8, 0, 3, 4, 1]), 1956.0)"
      ]
     },
     "execution_count": 63,
     "metadata": {},
     "output_type": "execute_result"
    }
   ],
   "source": [
    "melhor_solucao, melhor_custo = mlrose.genetic_alg(problem=problema, pop_size=500, mutation_prob=0.2, random_state=1)\n",
    "melhor_solucao, melhor_custo"
   ]
  }
 ],
 "metadata": {
  "kernelspec": {
   "display_name": ".venv",
   "language": "python",
   "name": "python3"
  },
  "language_info": {
   "codemirror_mode": {
    "name": "ipython",
    "version": 3
   },
   "file_extension": ".py",
   "mimetype": "text/x-python",
   "name": "python",
   "nbconvert_exporter": "python",
   "pygments_lexer": "ipython3",
   "version": "3.12.0"
  }
 },
 "nbformat": 4,
 "nbformat_minor": 2
}
