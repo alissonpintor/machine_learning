{
 "cells": [
  {
   "cell_type": "markdown",
   "metadata": {},
   "source": [
    "# Algoritmo de Otimização - Calendários de voos"
   ]
  },
  {
   "cell_type": "markdown",
   "metadata": {},
   "source": [
    "### Imports"
   ]
  },
  {
   "cell_type": "code",
   "execution_count": 1,
   "metadata": {},
   "outputs": [],
   "source": [
    "import six\n",
    "import sys\n",
    "sys.modules['sklearn.externals.six'] = six\n",
    "import mlrose"
   ]
  },
  {
   "cell_type": "markdown",
   "metadata": {},
   "source": [
    "### Representação do problema"
   ]
  },
  {
   "cell_type": "code",
   "execution_count": 2,
   "metadata": {},
   "outputs": [],
   "source": [
    "produtos = [\n",
    "    ('Refrigerador A', 0.751, 999.90),\n",
    "    ('Celular', 0.0000899, 2911.12),\n",
    "    ('TV 55', 0.400, 4346.99),\n",
    "    ('TV 50', 0.290, 3999.90),\n",
    "    ('TV 42', 0.200, 2999.00),\n",
    "    ('Notebook A', 0.00350, 2499.90),\n",
    "    ('Ventilador', 0.496, 199.90),\n",
    "    ('Microondas A', 0.0424, 308.66),\n",
    "    ('Microondas B', 0.0544, 429.90),\n",
    "    ('Microondas C', 0.0319, 299.29),\n",
    "    ('Refrigerador B', 0.635, 849.00),\n",
    "    ('Refrigerador C', 0.870, 1199.89),\n",
    "    ('Notebook B', 0.498, 1999.90),\n",
    "    ('Notebook C', 0.527, 3999.00)\n",
    "]"
   ]
  },
  {
   "cell_type": "code",
   "execution_count": 3,
   "metadata": {},
   "outputs": [],
   "source": [
    "espaco_disponivel = 3"
   ]
  },
  {
   "cell_type": "code",
   "execution_count": 5,
   "metadata": {},
   "outputs": [],
   "source": [
    "def imprimir_solucao(solucao):\n",
    "  for i in range(len(solucao)):\n",
    "    if solucao[i] == 1:\n",
    "      print('%s - %s' % (produtos[i][0], produtos[i][2]))"
   ]
  },
  {
   "cell_type": "code",
   "execution_count": 6,
   "metadata": {},
   "outputs": [
    {
     "name": "stdout",
     "output_type": "stream",
     "text": [
      "Celular - 2911.12\n",
      "TV 55 - 4346.99\n",
      "TV 50 - 3999.9\n",
      "Ventilador - 199.9\n",
      "Microondas B - 429.9\n",
      "Refrigerador B - 849.0\n",
      "Refrigerador C - 1199.89\n",
      "Notebook C - 3999.0\n"
     ]
    }
   ],
   "source": [
    "imprimir_solucao([0, 1, 1, 1, 0, 0, 1, 0, 1, 0, 1, 1, 0, 1])"
   ]
  },
  {
   "cell_type": "markdown",
   "metadata": {},
   "source": [
    "### Fitness Function"
   ]
  },
  {
   "cell_type": "code",
   "execution_count": 7,
   "metadata": {},
   "outputs": [],
   "source": [
    "def fitness_function(solucao):\n",
    "  custo = 0\n",
    "  soma_espaco = 0\n",
    "  for i in range(len(solucao)):\n",
    "    if solucao[i] == 1:\n",
    "      custo += produtos[i][2]\n",
    "      soma_espaco += produtos[i][1]\n",
    "  if soma_espaco > espaco_disponivel:\n",
    "    custo = 1\n",
    "  return custo"
   ]
  },
  {
   "cell_type": "code",
   "execution_count": 8,
   "metadata": {},
   "outputs": [
    {
     "data": {
      "text/plain": [
       "13588.71"
      ]
     },
     "execution_count": 8,
     "metadata": {},
     "output_type": "execute_result"
    }
   ],
   "source": [
    "fitness_function([0, 1, 0, 1, 0, 0, 1, 0, 1, 0, 1, 1, 0, 1])"
   ]
  },
  {
   "cell_type": "code",
   "execution_count": 9,
   "metadata": {},
   "outputs": [],
   "source": [
    "fitness = mlrose.CustomFitness(fitness_function)\n",
    "problema = mlrose.DiscreteOpt(length=14, fitness_fn=fitness, maximize=True, max_val=2)"
   ]
  },
  {
   "cell_type": "markdown",
   "metadata": {},
   "source": [
    "### Hill Climb"
   ]
  },
  {
   "cell_type": "code",
   "execution_count": 15,
   "metadata": {},
   "outputs": [
    {
     "data": {
      "text/plain": [
       "(array([1, 1, 1, 1, 1, 1, 0, 1, 1, 1, 1, 0, 0, 1], dtype=int32),\n",
       " 23642.660000000003)"
      ]
     },
     "execution_count": 15,
     "metadata": {},
     "output_type": "execute_result"
    }
   ],
   "source": [
    "melhor_solucao, melhor_custo = mlrose.hill_climb(problema)\n",
    "melhor_solucao, melhor_custo"
   ]
  },
  {
   "cell_type": "code",
   "execution_count": 17,
   "metadata": {},
   "outputs": [
    {
     "name": "stdout",
     "output_type": "stream",
     "text": [
      "Refrigerador A - 999.9\n",
      "Celular - 2911.12\n",
      "TV 55 - 4346.99\n",
      "TV 50 - 3999.9\n",
      "TV 42 - 2999.0\n",
      "Notebook A - 2499.9\n",
      "Microondas A - 308.66\n",
      "Microondas B - 429.9\n",
      "Microondas C - 299.29\n",
      "Refrigerador B - 849.0\n",
      "Notebook C - 3999.0\n"
     ]
    }
   ],
   "source": [
    "imprimir_solucao(melhor_solucao)"
   ]
  },
  {
   "cell_type": "markdown",
   "metadata": {},
   "source": [
    "### Simulated Annealing"
   ]
  },
  {
   "cell_type": "code",
   "execution_count": 18,
   "metadata": {},
   "outputs": [
    {
     "data": {
      "text/plain": [
       "(array([1, 1, 0, 0, 1, 1, 1, 1, 1, 1, 0, 1, 0, 1], dtype=int32), 15846.56)"
      ]
     },
     "execution_count": 18,
     "metadata": {},
     "output_type": "execute_result"
    }
   ],
   "source": [
    "from mlrose.decay import ExpDecay\n",
    "\n",
    "melhor_solucao, melhor_custo = mlrose.simulated_annealing(problema, schedule=ExpDecay(), random_state=1)\n",
    "melhor_solucao, melhor_custo"
   ]
  },
  {
   "cell_type": "code",
   "execution_count": 19,
   "metadata": {},
   "outputs": [
    {
     "name": "stdout",
     "output_type": "stream",
     "text": [
      "Refrigerador A - 999.9\n",
      "Celular - 2911.12\n",
      "TV 42 - 2999.0\n",
      "Notebook A - 2499.9\n",
      "Ventilador - 199.9\n",
      "Microondas A - 308.66\n",
      "Microondas B - 429.9\n",
      "Microondas C - 299.29\n",
      "Refrigerador C - 1199.89\n",
      "Notebook C - 3999.0\n"
     ]
    }
   ],
   "source": [
    "imprimir_solucao(melhor_solucao)"
   ]
  },
  {
   "cell_type": "markdown",
   "metadata": {},
   "source": [
    "### Algoritmo Genético"
   ]
  },
  {
   "cell_type": "code",
   "execution_count": 24,
   "metadata": {},
   "outputs": [
    {
     "data": {
      "text/plain": [
       "(array([1, 1, 1, 1, 1, 1, 0, 1, 1, 1, 0, 0, 1, 1]), 24793.560000000005)"
      ]
     },
     "execution_count": 24,
     "metadata": {},
     "output_type": "execute_result"
    }
   ],
   "source": [
    "melhor_solucao, melhor_custo = mlrose.genetic_alg(problem=problema, pop_size=500, mutation_prob=0.2)\n",
    "melhor_solucao, melhor_custo"
   ]
  },
  {
   "cell_type": "code",
   "execution_count": 25,
   "metadata": {},
   "outputs": [
    {
     "name": "stdout",
     "output_type": "stream",
     "text": [
      "Refrigerador A - 999.9\n",
      "Celular - 2911.12\n",
      "TV 55 - 4346.99\n",
      "TV 50 - 3999.9\n",
      "TV 42 - 2999.0\n",
      "Notebook A - 2499.9\n",
      "Microondas A - 308.66\n",
      "Microondas B - 429.9\n",
      "Microondas C - 299.29\n",
      "Notebook B - 1999.9\n",
      "Notebook C - 3999.0\n"
     ]
    }
   ],
   "source": [
    "imprimir_solucao(melhor_solucao)"
   ]
  }
 ],
 "metadata": {
  "kernelspec": {
   "display_name": ".venv",
   "language": "python",
   "name": "python3"
  },
  "language_info": {
   "codemirror_mode": {
    "name": "ipython",
    "version": 3
   },
   "file_extension": ".py",
   "mimetype": "text/x-python",
   "name": "python",
   "nbconvert_exporter": "python",
   "pygments_lexer": "ipython3",
   "version": "3.12.0"
  }
 },
 "nbformat": 4,
 "nbformat_minor": 2
}
